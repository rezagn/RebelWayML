{
 "cells": [
  {
   "cell_type": "code",
   "execution_count": 1,
   "metadata": {},
   "outputs": [],
   "source": [
    "import numpy as np\n",
    "import pandas as pd\n",
    "import matplotlib.pyplot as plt\n",
    "import seaborn as sns"
   ]
  },
  {
   "cell_type": "code",
   "execution_count": 3,
   "metadata": {},
   "outputs": [],
   "source": [
    "import sklearn\n",
    "from sklearn.model_selection import train_test_split\n",
    "from sklearn.metrics import accuracy_score, confusion_matrix, classification_report\n",
    "from sklearn.metrics.pairwise import cosine_similarity\n",
    "from sklearn.feature_extraction.text import CountVectorizer"
   ]
  },
  {
   "cell_type": "code",
   "execution_count": 4,
   "metadata": {},
   "outputs": [],
   "source": [
    "import nltk\n",
    "from rake_nltk  import Rake\n"
   ]
  },
  {
   "cell_type": "code",
   "execution_count": 5,
   "metadata": {},
   "outputs": [],
   "source": [
    "df = pd.read_csv(\"tvs_clean_df.csv\")"
   ]
  },
  {
   "cell_type": "code",
   "execution_count": 6,
   "metadata": {},
   "outputs": [
    {
     "data": {
      "text/html": [
       "<div>\n",
       "<style scoped>\n",
       "    .dataframe tbody tr th:only-of-type {\n",
       "        vertical-align: middle;\n",
       "    }\n",
       "\n",
       "    .dataframe tbody tr th {\n",
       "        vertical-align: top;\n",
       "    }\n",
       "\n",
       "    .dataframe thead th {\n",
       "        text-align: right;\n",
       "    }\n",
       "</style>\n",
       "<table border=\"1\" class=\"dataframe\">\n",
       "  <thead>\n",
       "    <tr style=\"text-align: right;\">\n",
       "      <th></th>\n",
       "      <th>Unnamed: 0</th>\n",
       "      <th>id</th>\n",
       "      <th>name</th>\n",
       "      <th>overview</th>\n",
       "      <th>number_of_episodes</th>\n",
       "      <th>number_of_seasons</th>\n",
       "      <th>vote_average</th>\n",
       "      <th>vote_count</th>\n",
       "      <th>popularity</th>\n",
       "    </tr>\n",
       "  </thead>\n",
       "  <tbody>\n",
       "    <tr>\n",
       "      <th>0</th>\n",
       "      <td>0</td>\n",
       "      <td>1</td>\n",
       "      <td>Pride</td>\n",
       "      <td>The theme is strength and gallantry.Haru Saton...</td>\n",
       "      <td>11.0</td>\n",
       "      <td>1</td>\n",
       "      <td>8.192</td>\n",
       "      <td>13</td>\n",
       "      <td>6.770</td>\n",
       "    </tr>\n",
       "    <tr>\n",
       "      <th>1</th>\n",
       "      <td>1</td>\n",
       "      <td>2</td>\n",
       "      <td>Clerks</td>\n",
       "      <td>The continuing adventures of store clerks Dant...</td>\n",
       "      <td>6.0</td>\n",
       "      <td>1</td>\n",
       "      <td>6.897</td>\n",
       "      <td>78</td>\n",
       "      <td>10.620</td>\n",
       "    </tr>\n",
       "    <tr>\n",
       "      <th>2</th>\n",
       "      <td>2</td>\n",
       "      <td>3</td>\n",
       "      <td>The Message</td>\n",
       "      <td>The Message was a surreal comedy series which ...</td>\n",
       "      <td>6.0</td>\n",
       "      <td>1</td>\n",
       "      <td>8.500</td>\n",
       "      <td>2</td>\n",
       "      <td>0.707</td>\n",
       "    </tr>\n",
       "    <tr>\n",
       "      <th>3</th>\n",
       "      <td>3</td>\n",
       "      <td>4</td>\n",
       "      <td>The Amazing Mrs Pritchard</td>\n",
       "      <td>Supermarket manager Ros Pritchard decides to s...</td>\n",
       "      <td>6.0</td>\n",
       "      <td>1</td>\n",
       "      <td>7.300</td>\n",
       "      <td>3</td>\n",
       "      <td>3.452</td>\n",
       "    </tr>\n",
       "    <tr>\n",
       "      <th>4</th>\n",
       "      <td>4</td>\n",
       "      <td>5</td>\n",
       "      <td>La Job</td>\n",
       "      <td>La Job is a French Canadian comedy television ...</td>\n",
       "      <td>12.0</td>\n",
       "      <td>1</td>\n",
       "      <td>0.720</td>\n",
       "      <td>166</td>\n",
       "      <td>5.942</td>\n",
       "    </tr>\n",
       "  </tbody>\n",
       "</table>\n",
       "</div>"
      ],
      "text/plain": [
       "   Unnamed: 0  id                       name  \\\n",
       "0           0   1                      Pride   \n",
       "1           1   2                     Clerks   \n",
       "2           2   3                The Message   \n",
       "3           3   4  The Amazing Mrs Pritchard   \n",
       "4           4   5                     La Job   \n",
       "\n",
       "                                            overview  number_of_episodes  \\\n",
       "0  The theme is strength and gallantry.Haru Saton...                11.0   \n",
       "1  The continuing adventures of store clerks Dant...                 6.0   \n",
       "2  The Message was a surreal comedy series which ...                 6.0   \n",
       "3  Supermarket manager Ros Pritchard decides to s...                 6.0   \n",
       "4  La Job is a French Canadian comedy television ...                12.0   \n",
       "\n",
       "   number_of_seasons  vote_average  vote_count  popularity  \n",
       "0                  1         8.192          13       6.770  \n",
       "1                  1         6.897          78      10.620  \n",
       "2                  1         8.500           2       0.707  \n",
       "3                  1         7.300           3       3.452  \n",
       "4                  1         0.720         166       5.942  "
      ]
     },
     "execution_count": 6,
     "metadata": {},
     "output_type": "execute_result"
    }
   ],
   "source": [
    "df.head()"
   ]
  },
  {
   "cell_type": "code",
   "execution_count": 7,
   "metadata": {},
   "outputs": [
    {
     "name": "stdout",
     "output_type": "stream",
     "text": [
      "<class 'pandas.core.frame.DataFrame'>\n",
      "RangeIndex: 85422 entries, 0 to 85421\n",
      "Data columns (total 9 columns):\n",
      " #   Column              Non-Null Count  Dtype  \n",
      "---  ------              --------------  -----  \n",
      " 0   Unnamed: 0          85422 non-null  int64  \n",
      " 1   id                  85422 non-null  int64  \n",
      " 2   name                85422 non-null  object \n",
      " 3   overview            85422 non-null  object \n",
      " 4   number_of_episodes  85422 non-null  float64\n",
      " 5   number_of_seasons   85422 non-null  int64  \n",
      " 6   vote_average        85422 non-null  float64\n",
      " 7   vote_count          85422 non-null  int64  \n",
      " 8   popularity          85422 non-null  float64\n",
      "dtypes: float64(3), int64(4), object(2)\n",
      "memory usage: 5.9+ MB\n"
     ]
    }
   ],
   "source": [
    "df.info()"
   ]
  },
  {
   "cell_type": "code",
   "execution_count": 8,
   "metadata": {},
   "outputs": [
    {
     "name": "stderr",
     "output_type": "stream",
     "text": [
      "[nltk_data] Downloading package stopwords to\n",
      "[nltk_data]     C:\\Users\\rezag\\AppData\\Roaming\\nltk_data...\n",
      "[nltk_data]   Package stopwords is already up-to-date!\n",
      "[nltk_data] Downloading package punkt to\n",
      "[nltk_data]     C:\\Users\\rezag\\AppData\\Roaming\\nltk_data...\n",
      "[nltk_data]   Package punkt is already up-to-date!\n"
     ]
    },
    {
     "data": {
      "text/plain": [
       "True"
      ]
     },
     "execution_count": 8,
     "metadata": {},
     "output_type": "execute_result"
    }
   ],
   "source": [
    "nltk.download('stopwords')\n",
    "nltk.download('punkt')"
   ]
  },
  {
   "cell_type": "code",
   "execution_count": 9,
   "metadata": {},
   "outputs": [],
   "source": [
    "df['keywords'] = \"\"\n",
    "for index, row in df.iterrows():\n",
    "    overview = str(row['overview'])\n",
    "    r = Rake()\n",
    "    r.extract_keywords_from_text(overview)\n",
    "    keywords_scores_dict = r.get_word_degrees()\n",
    "    #df.at[index, 'keywords'] = list(keywords_scores_dict.keys())\n",
    "    df.at[index, 'keywords'] = str(list(keywords_scores_dict.keys())).replace(\"'\", '').replace(\"[\", \"\").replace(\"]\", \"\").replace(\",\", \"\")\n",
    "\n",
    "df.drop(columns=[\"Unnamed: 0\", \"overview\"], inplace=True)"
   ]
  },
  {
   "cell_type": "code",
   "execution_count": 10,
   "metadata": {},
   "outputs": [
    {
     "data": {
      "text/html": [
       "<div>\n",
       "<style scoped>\n",
       "    .dataframe tbody tr th:only-of-type {\n",
       "        vertical-align: middle;\n",
       "    }\n",
       "\n",
       "    .dataframe tbody tr th {\n",
       "        vertical-align: top;\n",
       "    }\n",
       "\n",
       "    .dataframe thead th {\n",
       "        text-align: right;\n",
       "    }\n",
       "</style>\n",
       "<table border=\"1\" class=\"dataframe\">\n",
       "  <thead>\n",
       "    <tr style=\"text-align: right;\">\n",
       "      <th></th>\n",
       "      <th>id</th>\n",
       "      <th>name</th>\n",
       "      <th>number_of_episodes</th>\n",
       "      <th>number_of_seasons</th>\n",
       "      <th>vote_average</th>\n",
       "      <th>vote_count</th>\n",
       "      <th>popularity</th>\n",
       "      <th>keywords</th>\n",
       "    </tr>\n",
       "  </thead>\n",
       "  <tbody>\n",
       "    <tr>\n",
       "      <th>0</th>\n",
       "      <td>1</td>\n",
       "      <td>Pride</td>\n",
       "      <td>11.0</td>\n",
       "      <td>1</td>\n",
       "      <td>8.192</td>\n",
       "      <td>13</td>\n",
       "      <td>6.770</td>\n",
       "      <td>theme strength gallantry haru satonaka captain...</td>\n",
       "    </tr>\n",
       "    <tr>\n",
       "      <th>1</th>\n",
       "      <td>2</td>\n",
       "      <td>Clerks</td>\n",
       "      <td>6.0</td>\n",
       "      <td>1</td>\n",
       "      <td>6.897</td>\n",
       "      <td>78</td>\n",
       "      <td>10.620</td>\n",
       "      <td>continuing adventures store clerks dante randa...</td>\n",
       "    </tr>\n",
       "    <tr>\n",
       "      <th>2</th>\n",
       "      <td>3</td>\n",
       "      <td>The Message</td>\n",
       "      <td>6.0</td>\n",
       "      <td>1</td>\n",
       "      <td>8.500</td>\n",
       "      <td>2</td>\n",
       "      <td>0.707</td>\n",
       "      <td>message surreal comedy series spoofs current p...</td>\n",
       "    </tr>\n",
       "    <tr>\n",
       "      <th>3</th>\n",
       "      <td>4</td>\n",
       "      <td>The Amazing Mrs Pritchard</td>\n",
       "      <td>6.0</td>\n",
       "      <td>1</td>\n",
       "      <td>7.300</td>\n",
       "      <td>3</td>\n",
       "      <td>3.452</td>\n",
       "      <td>supermarket manager ros pritchard decides stan...</td>\n",
       "    </tr>\n",
       "    <tr>\n",
       "      <th>4</th>\n",
       "      <td>5</td>\n",
       "      <td>La Job</td>\n",
       "      <td>12.0</td>\n",
       "      <td>1</td>\n",
       "      <td>0.720</td>\n",
       "      <td>166</td>\n",
       "      <td>5.942</td>\n",
       "      <td>la job french canadian comedy television serie...</td>\n",
       "    </tr>\n",
       "  </tbody>\n",
       "</table>\n",
       "</div>"
      ],
      "text/plain": [
       "   id                       name  number_of_episodes  number_of_seasons  \\\n",
       "0   1                      Pride                11.0                  1   \n",
       "1   2                     Clerks                 6.0                  1   \n",
       "2   3                The Message                 6.0                  1   \n",
       "3   4  The Amazing Mrs Pritchard                 6.0                  1   \n",
       "4   5                     La Job                12.0                  1   \n",
       "\n",
       "   vote_average  vote_count  popularity  \\\n",
       "0         8.192          13       6.770   \n",
       "1         6.897          78      10.620   \n",
       "2         8.500           2       0.707   \n",
       "3         7.300           3       3.452   \n",
       "4         0.720         166       5.942   \n",
       "\n",
       "                                            keywords  \n",
       "0  theme strength gallantry haru satonaka captain...  \n",
       "1  continuing adventures store clerks dante randa...  \n",
       "2  message surreal comedy series spoofs current p...  \n",
       "3  supermarket manager ros pritchard decides stan...  \n",
       "4  la job french canadian comedy television serie...  "
      ]
     },
     "execution_count": 10,
     "metadata": {},
     "output_type": "execute_result"
    }
   ],
   "source": [
    "df.head()"
   ]
  },
  {
   "cell_type": "code",
   "execution_count": 11,
   "metadata": {},
   "outputs": [
    {
     "data": {
      "text/plain": [
       "array([[1.        , 0.        , 0.        , ..., 0.04279605, 0.        ,\n",
       "        0.        ],\n",
       "       [0.        , 1.        , 0.        , ..., 0.        , 0.        ,\n",
       "        0.        ],\n",
       "       [0.        , 0.        , 1.        , ..., 0.05976143, 0.        ,\n",
       "        0.        ],\n",
       "       ...,\n",
       "       [0.04279605, 0.        , 0.05976143, ..., 1.        , 0.        ,\n",
       "        0.        ],\n",
       "       [0.        , 0.        , 0.        , ..., 0.        , 1.        ,\n",
       "        0.        ],\n",
       "       [0.        , 0.        , 0.        , ..., 0.        , 0.        ,\n",
       "        1.        ]])"
      ]
     },
     "execution_count": 11,
     "metadata": {},
     "output_type": "execute_result"
    }
   ],
   "source": [
    "# This block needs quite a lot of memory\n",
    "count = CountVectorizer()\n",
    "count_matrix = count.fit_transform(df[\"keywords\"])\n",
    "cosine_sim = cosine_similarity(count_matrix, count_matrix)\n",
    "cosine_sim"
   ]
  },
  {
   "cell_type": "code",
   "execution_count": 12,
   "metadata": {},
   "outputs": [
    {
     "data": {
      "text/plain": [
       "0                                 Pride\n",
       "1                                Clerks\n",
       "2                           The Message\n",
       "3             The Amazing Mrs Pritchard\n",
       "4                                La Job\n",
       "5     Strange Days at Blake Holsey High\n",
       "6                                  Bugs\n",
       "7                               Te Kaea\n",
       "8                            Match Game\n",
       "9                     All in Good Faith\n",
       "10           Strictly Sex with Dr. Drew\n",
       "11                         Han Wu Da Di\n",
       "12           How do you like Wednesday?\n",
       "13                      Shuriken School\n",
       "14          Mister Rogers' Neighborhood\n",
       "15                Sidewalks: Video Nite\n",
       "16                Mighty Truck of Stuff\n",
       "17                          W*A*L*T*E*R\n",
       "18                   Planet of the Apes\n",
       "19                             Wildboyz\n",
       "Name: name, dtype: object"
      ]
     },
     "execution_count": 12,
     "metadata": {},
     "output_type": "execute_result"
    }
   ],
   "source": [
    "indices = pd.Series(df[\"name\"])\n",
    "indices[:20]"
   ]
  },
  {
   "cell_type": "code",
   "execution_count": 15,
   "metadata": {},
   "outputs": [],
   "source": [
    "def recommendations(Title, cosine_sim = cosine_sim):\n",
    "    \n",
    "    recommended_movies = []\n",
    "    \n",
    "    # gettin the index of the movie that matches the title\n",
    "    idx = indices[indices == Title].index[0]\n",
    "\n",
    "    # creating a Series with the similarity scores in descending order\n",
    "    score_series = pd.Series(cosine_sim[idx]).sort_values(ascending = False)\n",
    "\n",
    "    # getting the indexes of the 10 most similar movies\n",
    "    top_10_indexes = list(score_series.iloc[1:11].index)\n",
    "    \n",
    "    # populating the list with the titles of the best 10 matching movies\n",
    "    for i in top_10_indexes:\n",
    "        #recommended_movies.append(list(new_df.index)[i])\n",
    "        recommended_movies.append(df['name'][i])\n",
    "        \n",
    "    return recommended_movies"
   ]
  },
  {
   "cell_type": "code",
   "execution_count": 16,
   "metadata": {},
   "outputs": [
    {
     "data": {
      "text/plain": [
       "['Chen Gong',\n",
       " 'A Voyage to the Future',\n",
       " 'Return To The Planet Of The Apes',\n",
       " 'Once a Thief',\n",
       " 'Untitled Alien Series',\n",
       " 'Transformers: Go!',\n",
       " '3 Body Problem',\n",
       " 'Harper Valley P.T.A.',\n",
       " 'Transistor Love Story',\n",
       " 'Jan from the Other Star']"
      ]
     },
     "execution_count": 16,
     "metadata": {},
     "output_type": "execute_result"
    }
   ],
   "source": [
    "recommendations('Planet of the Apes')"
   ]
  },
  {
   "cell_type": "code",
   "execution_count": 17,
   "metadata": {},
   "outputs": [
    {
     "data": {
      "text/plain": [
       "['The Last Shot',\n",
       " 'Strange Hill High',\n",
       " '화이팅',\n",
       " 'Phoenix Drop High',\n",
       " 'WHAT / IF',\n",
       " 'Thank You, 5',\n",
       " 'Top Chef Amateurs',\n",
       " 'Blockbusters',\n",
       " 'Barmageddon',\n",
       " 'Bride vs. Bride']"
      ]
     },
     "execution_count": 17,
     "metadata": {},
     "output_type": "execute_result"
    }
   ],
   "source": [
    "recommendations('Squid Game')"
   ]
  }
 ],
 "metadata": {
  "kernelspec": {
   "display_name": "py310",
   "language": "python",
   "name": "python3"
  },
  "language_info": {
   "codemirror_mode": {
    "name": "ipython",
    "version": 3
   },
   "file_extension": ".py",
   "mimetype": "text/x-python",
   "name": "python",
   "nbconvert_exporter": "python",
   "pygments_lexer": "ipython3",
   "version": "3.10.10"
  }
 },
 "nbformat": 4,
 "nbformat_minor": 2
}
